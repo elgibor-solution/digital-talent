{
 "cells": [
  {
   "cell_type": "markdown",
   "metadata": {},
   "source": [
    "## Scrapping Twitter Post"
   ]
  },
  {
   "cell_type": "code",
   "execution_count": 3,
   "metadata": {},
   "outputs": [],
   "source": [
    "from twython import Twython\n",
    "import json\n",
    "\n",
    "TWITTER_APP_KEY = '4D6ZKMpKukTvpW96UZ3DFLwIJ'\n",
    "TWITTER_APP_KEY_SECRET = 'I7R5d4kq2MgsOcSToxCLXio2gHUZGDXbOvxA1zbyQZEPeIrORy' \n",
    "TWITTER_ACCESS_TOKEN = '88834562-QJNg0MqQCASdOV5hWzS6WW1iF1XpagyHV5V0m7Rxo'\n",
    "TWITTER_ACCESS_TOKEN_SECRET = 'K03ywf82LlnvgG4kpmWOHtOA8R9ZJ2MLUqLn2j0PXLAhI'\n",
    "\n",
    "t = Twython(app_key=TWITTER_APP_KEY, \n",
    "            app_secret=TWITTER_APP_KEY_SECRET, \n",
    "            oauth_token=TWITTER_ACCESS_TOKEN, \n",
    "            oauth_token_secret=TWITTER_ACCESS_TOKEN_SECRET)"
   ]
  },
  {
   "cell_type": "code",
   "execution_count": 15,
   "metadata": {},
   "outputs": [],
   "source": [
    "term = 'KulinerYogyakarta'\n",
    "tweet_metadatas = t.search(q=term,count=100,result_type='recent')"
   ]
  },
  {
   "cell_type": "code",
   "execution_count": 16,
   "metadata": {},
   "outputs": [],
   "source": [
    "data_list = []\n",
    "\n",
    "for tweet in tweet_metadatas['statuses']:\n",
    "    meta = dict()\n",
    "    meta['tweet'] = tweet['text']\n",
    "    meta['timestamp'] = tweet['created_at']\n",
    "    meta['username'] = tweet['user']['screen_name']\n",
    "    \n",
    "    data_list.append(meta)"
   ]
  },
  {
   "cell_type": "code",
   "execution_count": 17,
   "metadata": {},
   "outputs": [
    {
     "data": {
      "text/html": [
       "<div>\n",
       "<style scoped>\n",
       "    .dataframe tbody tr th:only-of-type {\n",
       "        vertical-align: middle;\n",
       "    }\n",
       "\n",
       "    .dataframe tbody tr th {\n",
       "        vertical-align: top;\n",
       "    }\n",
       "\n",
       "    .dataframe thead th {\n",
       "        text-align: right;\n",
       "    }\n",
       "</style>\n",
       "<table border=\"1\" class=\"dataframe\">\n",
       "  <thead>\n",
       "    <tr style=\"text-align: right;\">\n",
       "      <th></th>\n",
       "      <th>timestamp</th>\n",
       "      <th>tweet</th>\n",
       "      <th>username</th>\n",
       "    </tr>\n",
       "  </thead>\n",
       "  <tbody>\n",
       "    <tr>\n",
       "      <th>0</th>\n",
       "      <td>Mon Oct 22 04:20:11 +0000 2018</td>\n",
       "      <td>Makan apa siang ini~~?\\n.\\nIF: Nasi Tumis Papr...</td>\n",
       "      <td>salmonju</td>\n",
       "    </tr>\n",
       "    <tr>\n",
       "      <th>1</th>\n",
       "      <td>Sat Oct 20 13:36:54 +0000 2018</td>\n",
       "      <td>#holiday #holidayfun #oktober #2018 #oktober20...</td>\n",
       "      <td>mollym3e</td>\n",
       "    </tr>\n",
       "    <tr>\n",
       "      <th>2</th>\n",
       "      <td>Fri Oct 19 03:07:32 +0000 2018</td>\n",
       "      <td>RT @rizkyalmr: Nyobain Nasi Brongkos, Salah Sa...</td>\n",
       "      <td>ahlibrosur</td>\n",
       "    </tr>\n",
       "    <tr>\n",
       "      <th>3</th>\n",
       "      <td>Fri Oct 19 02:32:02 +0000 2018</td>\n",
       "      <td>Kuliner Yogyakarta : Sate Kambing &amp;amp;#038; A...</td>\n",
       "      <td>pegimakan</td>\n",
       "    </tr>\n",
       "    <tr>\n",
       "      <th>4</th>\n",
       "      <td>Thu Oct 18 10:25:31 +0000 2018</td>\n",
       "      <td>Nyobain Nasi Brongkos, Salah Satu Kuliner Kege...</td>\n",
       "      <td>rizkyalmr</td>\n",
       "    </tr>\n",
       "  </tbody>\n",
       "</table>\n",
       "</div>"
      ],
      "text/plain": [
       "                        timestamp  \\\n",
       "0  Mon Oct 22 04:20:11 +0000 2018   \n",
       "1  Sat Oct 20 13:36:54 +0000 2018   \n",
       "2  Fri Oct 19 03:07:32 +0000 2018   \n",
       "3  Fri Oct 19 02:32:02 +0000 2018   \n",
       "4  Thu Oct 18 10:25:31 +0000 2018   \n",
       "\n",
       "                                               tweet    username  \n",
       "0  Makan apa siang ini~~?\\n.\\nIF: Nasi Tumis Papr...    salmonju  \n",
       "1  #holiday #holidayfun #oktober #2018 #oktober20...    mollym3e  \n",
       "2  RT @rizkyalmr: Nyobain Nasi Brongkos, Salah Sa...  ahlibrosur  \n",
       "3  Kuliner Yogyakarta : Sate Kambing &amp;#038; A...   pegimakan  \n",
       "4  Nyobain Nasi Brongkos, Salah Satu Kuliner Kege...   rizkyalmr  "
      ]
     },
     "execution_count": 17,
     "metadata": {},
     "output_type": "execute_result"
    }
   ],
   "source": [
    "import pandas as pd\n",
    "data = pd.DataFrame(data_list)\n",
    "data.head()"
   ]
  },
  {
   "cell_type": "code",
   "execution_count": 18,
   "metadata": {},
   "outputs": [],
   "source": [
    "data.to_csv('twitter-result.csv',index=False)"
   ]
  },
  {
   "cell_type": "code",
   "execution_count": null,
   "metadata": {},
   "outputs": [],
   "source": []
  }
 ],
 "metadata": {
  "kernelspec": {
   "display_name": "Python 3",
   "language": "python",
   "name": "python3"
  },
  "language_info": {
   "codemirror_mode": {
    "name": "ipython",
    "version": 3
   },
   "file_extension": ".py",
   "mimetype": "text/x-python",
   "name": "python",
   "nbconvert_exporter": "python",
   "pygments_lexer": "ipython3",
   "version": "3.7.0"
  }
 },
 "nbformat": 4,
 "nbformat_minor": 2
}
