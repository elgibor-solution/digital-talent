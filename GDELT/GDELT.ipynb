{
 "cells": [
  {
   "cell_type": "markdown",
   "metadata": {},
   "source": [
    "## GDELT"
   ]
  },
  {
   "cell_type": "markdown",
   "metadata": {},
   "source": [
    "## Load MySQL"
   ]
  },
  {
   "cell_type": "code",
   "execution_count": 8,
   "metadata": {},
   "outputs": [],
   "source": [
    "import pymysql\n",
    "import pandas as pd\n",
    "from sqlalchemy import create_engine\n",
    "\n",
    "host = 'localhost'\n",
    "port = '3306'\n",
    "username = 'root'\n",
    "password = ''\n",
    "database = 'gdelt'\n",
    "localPath = 'D:/GDELT/'\n",
    "outputPath = localPath + 'csv/'\n",
    "tahunData = '2014'\n",
    "\n",
    "csvHeader = [\"GlobalEventId\", \"sqldate\", \"MonthYear\",\"Year\",\"FractionDate\",\n",
    "                               \"Actor1Code\",\"Actor1Name\",\"Actor1CountryCode\",\"Actor1KnownGroupCode\",\n",
    "                               \"Actor1EthnicCode\",\"Actor1Religion1Code\",\"Actor1Religion2Code\",\n",
    "                               \"Actor1Type1Code\",\"Actor1Type2Code\",\"Actor1Type3Code\",\"Actor2Code\",\n",
    "                               \"Actor2Name\",\"Actor2CountryCode\",\"Actor2KnownGroupCode\",\"Actor2EthnicCode\",\n",
    "                               \"Actor2Religion1Code\",\"Actor2Religion2Code\",\"Actor2Type1Code\",\"Actor2Type2Code\",\n",
    "                               \"Actor2Type3Code\",\"IsRootEvent\",\"EventCode\",\"EventBaseCode\",\"EventRootCode\",\n",
    "                               \"QuadClass\",\"GoldsteinScale\",\"NumMentions\",\"NumSources\",\"NumArticles\",\n",
    "                               \"AvgTone\",\"Actor1Geo_Type\",\"Actor1Geo_FullName\",\"Actor1Geo_CountryCode\",\n",
    "                               \"Actor1Geo_ADM1Code\",\"Actor1Geo_Lat\",\"Actor1Geo_Long\",\"Actor1Geo_FeatureID\",\n",
    "                               \"Actor2Geo_Type\",\"Actor2Geo_FullName\",\"Actor2Geo_CountryCode\",\"Actor2Geo_ADM1Code\",\n",
    "                               \"Actor2Geo_Lat\",\"Actor2Geo_Long\",\"Actor2Geo_FeatureID\",\"ActionGeo_Type\",\n",
    "                               \"ActionGeo_FullName\",\"ActionGeo_CountryCode\",\"ActionGeo_ADM1Code\",\n",
    "                               \"ActionGeo_Lat\",\"ActionGeo_Long\",\"ActionGeo_FeatureID\",\"DATEADDED\",\n",
    "                               \"SOURCEURL\"]\n",
    "\n",
    "csvHeaderNew = [\"GlobalEventId\", \"sqldate\", \"MonthYear\",\"Year\",\n",
    "               \"Actor1Code\",\"Actor1Name\",\"Actor1CountryCode\",\"Actor1KnownGroupCode\",\"Actor1Type1Code\",\n",
    "               \"Actor2Code\",\"Actor2Name\",\"Actor2CountryCode\",\"Actor2KnownGroupCode\",\"Actor2Type1Code\",\n",
    "               \"IsRootEvent\",\"EventBaseCode\",\n",
    "               \"QuadClass\",\"GoldsteinScale\",\"NumMentions\",\"NumSources\",\"NumArticles\",\"AvgTone\",\n",
    "               \"Actor1Geo_FullName\",\"Actor1Geo_CountryCode\",\"Actor1Geo_ADM1Code\",\"Actor1Geo_Lat\",\"Actor1Geo_Long\",\n",
    "               \"Actor2Geo_FullName\",\"Actor2Geo_CountryCode\",\"Actor2Geo_ADM1Code\",\"Actor2Geo_Lat\",\"Actor2Geo_Long\",\n",
    "               \"ActionGeo_FullName\",\"ActionGeo_CountryCode\",\"ActionGeo_ADM1Code\",\"ActionGeo_Lat\",\"ActionGeo_Long\",\n",
    "               \"SOURCEURL\"]\n",
    "\n",
    "# create connection to database\n",
    "engine = create_engine('mysql+pymysql://' + username + ':' + password + '@' + host + ':' + port + '/' + database)\n",
    "\n",
    "def run(sql):\n",
    "    df = pd.read_sql_query(sql, engine)\n",
    "    return df"
   ]
  },
  {
   "cell_type": "markdown",
   "metadata": {},
   "source": [
    "## Load Folder Content "
   ]
  },
  {
   "cell_type": "code",
   "execution_count": 12,
   "metadata": {},
   "outputs": [
    {
     "name": "stdout",
     "output_type": "stream",
     "text": [
      "Total Files :  290\n"
     ]
    }
   ],
   "source": [
    "import glob\n",
    "\n",
    "compressedFiles = glob.glob(localPath + tahunData + \"*.zip\") \n",
    "print(\"Total Files : \", len(compressedFiles))"
   ]
  },
  {
   "cell_type": "markdown",
   "metadata": {},
   "source": [
    "## Extract"
   ]
  },
  {
   "cell_type": "code",
   "execution_count": 45,
   "metadata": {},
   "outputs": [
    {
     "name": "stdout",
     "output_type": "stream",
     "text": [
      "extract ZIP File ke folder tmp\n",
      "extract ZIP File Selesai\n"
     ]
    }
   ],
   "source": [
    "import os.path\n",
    "import urllib\n",
    "import zipfile\n",
    "import glob\n",
    "import operator\n",
    "\n",
    "print('extract ZIP File ke folder tmp')\n",
    "for compressedFile in compressedFiles:\n",
    "    # extract the contents of the compressed file to a temporary directory\n",
    "    z = zipfile.ZipFile(file=compressedFile, mode='r')\n",
    "    z.extractall(path=localPath + 'tmp/')\n",
    "print('extract ZIP File Selesai')"
   ]
  },
  {
   "cell_type": "markdown",
   "metadata": {},
   "source": [
    "## Data Cleaning"
   ]
  },
  {
   "cell_type": "code",
   "execution_count": 28,
   "metadata": {},
   "outputs": [
    {
     "name": "stdout",
     "output_type": "stream",
     "text": [
      "Filter Content : Mulai\n",
      "Filter Content: Selesai\n"
     ]
    }
   ],
   "source": [
    "# parse each of the csv files in the working directory,\n",
    "print('Filter Content : Mulai')\n",
    "\n",
    "csvFiles = glob.glob(localPath + 'tmp/' + tahunData + '*')\n",
    "for inFileName in csvFiles:\n",
    "\n",
    "    csvData = pd.read_csv(inFileName, delimiter = \"\\t\", encoding = 'utf8', error_bad_lines=False, \n",
    "                       header=None, low_memory=False,\n",
    "                       names = csvHeader)\n",
    "    \n",
    "    csvDataNew = csvData.loc[(csvData.EventBaseCode == 91) | (csvData.EventBaseCode == 112)]\n",
    "    pd.DataFrame(csvDataNew).to_csv(outputPath + tahunData + '.csv', index=False, header=None, mode='a')\n",
    "    \n",
    "    # delete the temporary file\n",
    "\n",
    "print('Filter Content: Selesai')"
   ]
  },
  {
   "cell_type": "markdown",
   "metadata": {},
   "source": [
    "## Remove Unused Field"
   ]
  },
  {
   "cell_type": "code",
   "execution_count": 9,
   "metadata": {},
   "outputs": [],
   "source": [
    "csvData = pd.read_csv(outputPath + tahunData + '.csv', delimiter = \",\", encoding = 'utf8', error_bad_lines=False, \n",
    "                       header=None, low_memory=False,\n",
    "                       names = csvHeader)\n",
    "\n",
    "csvDataNew = csvData[csvHeaderNew]\n",
    "csvDataNew.head(3)\n",
    "\n",
    "pd.DataFrame(csvDataNew).to_csv(outputPath + tahunData + '-clean.csv', index=False, header=None, mode='w')"
   ]
  },
  {
   "cell_type": "markdown",
   "metadata": {},
   "source": [
    "## Save to MySQL"
   ]
  },
  {
   "cell_type": "code",
   "execution_count": null,
   "metadata": {},
   "outputs": [
    {
     "name": "stderr",
     "output_type": "stream",
     "text": [
      "C:\\Users\\lenovo\\Anaconda3\\lib\\site-packages\\IPython\\core\\interactiveshell.py:2785: DtypeWarning: Columns (24) have mixed types. Specify dtype option on import or set low_memory=False.\n",
      "  interactivity=interactivity, compiler=compiler, result=result)\n"
     ]
    }
   ],
   "source": [
    "dfFromCSV = pd.read_csv(outputPath + tahunData + '.csv', sep = \",\", header = None, names = csvHeader)\n",
    "\n",
    "dfFromCSV.head(3)\n",
    "\n",
    "dfFromCSV.to_sql(name = tahunData, con = engine, if_exists = 'append', index = False )"
   ]
  },
  {
   "cell_type": "markdown",
   "metadata": {},
   "source": [
    "## Scrap content from the url"
   ]
  },
  {
   "cell_type": "code",
   "execution_count": 10,
   "metadata": {},
   "outputs": [
    {
     "ename": "ModuleNotFoundError",
     "evalue": "No module named 'newspaper'",
     "output_type": "error",
     "traceback": [
      "\u001b[1;31m---------------------------------------------------------------------------\u001b[0m",
      "\u001b[1;31mModuleNotFoundError\u001b[0m                       Traceback (most recent call last)",
      "\u001b[1;32m<ipython-input-10-1a28bd721d66>\u001b[0m in \u001b[0;36m<module>\u001b[1;34m()\u001b[0m\n\u001b[1;32m----> 1\u001b[1;33m \u001b[1;32mfrom\u001b[0m \u001b[0mnewspaper\u001b[0m \u001b[1;32mimport\u001b[0m \u001b[0mArticle\u001b[0m\u001b[1;33m\u001b[0m\u001b[0m\n\u001b[0m\u001b[0;32m      2\u001b[0m \u001b[1;33m\u001b[0m\u001b[0m\n\u001b[0;32m      3\u001b[0m \u001b[1;32mfor\u001b[0m \u001b[0mrow\u001b[0m \u001b[1;32min\u001b[0m \u001b[0mdf\u001b[0m\u001b[1;33m:\u001b[0m\u001b[1;33m\u001b[0m\u001b[0m\n\u001b[0;32m      4\u001b[0m     \u001b[1;32mtry\u001b[0m\u001b[1;33m:\u001b[0m\u001b[1;33m\u001b[0m\u001b[0m\n\u001b[0;32m      5\u001b[0m         \u001b[0mprint\u001b[0m\u001b[1;33m(\u001b[0m\u001b[0mrow\u001b[0m\u001b[1;33m[\u001b[0m\u001b[1;34m'SOURCEURL'\u001b[0m\u001b[1;33m]\u001b[0m\u001b[1;33m)\u001b[0m\u001b[1;33m\u001b[0m\u001b[0m\n",
      "\u001b[1;31mModuleNotFoundError\u001b[0m: No module named 'newspaper'"
     ]
    }
   ],
   "source": [
    "from newspaper import Article\n",
    "\n",
    "for row in df:\n",
    "    try:\n",
    "        print(row['SOURCEURL'])\n",
    "        article = Article(row[\"SOURCEURL\"])\n",
    "        article.download()\n",
    "        article.parse()\n",
    "        print(article.title)\n",
    "    except:\n",
    "        pass"
   ]
  },
  {
   "cell_type": "code",
   "execution_count": 28,
   "metadata": {},
   "outputs": [
    {
     "ename": "ValueError",
     "evalue": "geopandas is installed but the geospatial functions failed for some other reason. Review the stack trace to see where the failure occurred.",
     "output_type": "error",
     "traceback": [
      "\u001b[1;31m---------------------------------------------------------------------------\u001b[0m",
      "\u001b[1;31mModuleNotFoundError\u001b[0m                       Traceback (most recent call last)",
      "\u001b[1;32m~\\Anaconda3\\lib\\site-packages\\gdelt\\vectorizingFuncs.py\u001b[0m in \u001b[0;36m_geofilter\u001b[1;34m(frame)\u001b[0m\n\u001b[0;32m    157\u001b[0m     \u001b[1;32mtry\u001b[0m\u001b[1;33m:\u001b[0m\u001b[1;33m\u001b[0m\u001b[0m\n\u001b[1;32m--> 158\u001b[1;33m         \u001b[1;32mimport\u001b[0m \u001b[0mgeopandas\u001b[0m \u001b[1;32mas\u001b[0m \u001b[0mgpd\u001b[0m\u001b[1;33m\u001b[0m\u001b[0m\n\u001b[0m\u001b[0;32m    159\u001b[0m \u001b[1;33m\u001b[0m\u001b[0m\n",
      "\u001b[1;31mModuleNotFoundError\u001b[0m: No module named 'geopandas'",
      "\nDuring handling of the above exception, another exception occurred:\n",
      "\u001b[1;31mValueError\u001b[0m                                Traceback (most recent call last)",
      "\u001b[1;32m<ipython-input-28-1262ec75a545>\u001b[0m in \u001b[0;36m<module>\u001b[1;34m()\u001b[0m\n\u001b[0;32m      4\u001b[0m \u001b[0mgd\u001b[0m\u001b[1;33m=\u001b[0m \u001b[0mgdelt\u001b[0m\u001b[1;33m.\u001b[0m\u001b[0mgdelt\u001b[0m\u001b[1;33m(\u001b[0m\u001b[1;33m)\u001b[0m\u001b[1;33m\u001b[0m\u001b[0m\n\u001b[0;32m      5\u001b[0m \u001b[1;33m\u001b[0m\u001b[0m\n\u001b[1;32m----> 6\u001b[1;33m \u001b[0mevents\u001b[0m \u001b[1;33m=\u001b[0m \u001b[0mgd\u001b[0m\u001b[1;33m.\u001b[0m\u001b[0mSearch\u001b[0m\u001b[1;33m(\u001b[0m\u001b[1;33m[\u001b[0m\u001b[1;34m'2017 May 23'\u001b[0m\u001b[1;33m]\u001b[0m\u001b[1;33m,\u001b[0m\u001b[0mtable\u001b[0m\u001b[1;33m=\u001b[0m\u001b[1;34m'events'\u001b[0m\u001b[1;33m,\u001b[0m\u001b[0moutput\u001b[0m\u001b[1;33m=\u001b[0m\u001b[1;34m'gpd'\u001b[0m\u001b[1;33m,\u001b[0m\u001b[0mnormcols\u001b[0m\u001b[1;33m=\u001b[0m\u001b[1;32mTrue\u001b[0m\u001b[1;33m,\u001b[0m\u001b[0mcoverage\u001b[0m\u001b[1;33m=\u001b[0m\u001b[1;32mFalse\u001b[0m\u001b[1;33m)\u001b[0m\u001b[1;33m\u001b[0m\u001b[0m\n\u001b[0m\u001b[0;32m      7\u001b[0m \u001b[1;33m\u001b[0m\u001b[0m\n\u001b[0;32m      8\u001b[0m \u001b[1;31m# new schema method\u001b[0m\u001b[1;33m\u001b[0m\u001b[1;33m\u001b[0m\u001b[0m\n",
      "\u001b[1;32m~\\Anaconda3\\lib\\site-packages\\gdelt\\base.py\u001b[0m in \u001b[0;36mSearch\u001b[1;34m(self, date, table, coverage, translation, output, queryTime, normcols)\u001b[0m\n\u001b[0;32m    689\u001b[0m         \u001b[1;31m# geopandas dataframe output\u001b[0m\u001b[1;33m\u001b[0m\u001b[1;33m\u001b[0m\u001b[0m\n\u001b[0;32m    690\u001b[0m         \u001b[1;32melif\u001b[0m \u001b[0moutput\u001b[0m \u001b[1;33m==\u001b[0m \u001b[1;34m'gpd'\u001b[0m \u001b[1;32mor\u001b[0m \u001b[0moutput\u001b[0m \u001b[1;33m==\u001b[0m \u001b[1;34m'geodataframe'\u001b[0m \u001b[1;32mor\u001b[0m \u001b[0moutput\u001b[0m \u001b[1;33m==\u001b[0m \u001b[1;34m'geoframe'\u001b[0m\u001b[1;33m:\u001b[0m\u001b[1;33m\u001b[0m\u001b[0m\n\u001b[1;32m--> 691\u001b[1;33m             \u001b[0mself\u001b[0m\u001b[1;33m.\u001b[0m\u001b[0mfinal\u001b[0m \u001b[1;33m=\u001b[0m \u001b[0m_geofilter\u001b[0m\u001b[1;33m(\u001b[0m\u001b[0mresults\u001b[0m\u001b[1;33m)\u001b[0m\u001b[1;33m\u001b[0m\u001b[0m\n\u001b[0m\u001b[0;32m    692\u001b[0m             \u001b[0mself\u001b[0m\u001b[1;33m.\u001b[0m\u001b[0mfinal\u001b[0m \u001b[1;33m=\u001b[0m \u001b[0mself\u001b[0m\u001b[1;33m.\u001b[0m\u001b[0mfinal\u001b[0m\u001b[1;33m[\u001b[0m\u001b[0mself\u001b[0m\u001b[1;33m.\u001b[0m\u001b[0mfinal\u001b[0m\u001b[1;33m.\u001b[0m\u001b[0mgeometry\u001b[0m\u001b[1;33m.\u001b[0m\u001b[0mnotnull\u001b[0m\u001b[1;33m(\u001b[0m\u001b[1;33m)\u001b[0m\u001b[1;33m]\u001b[0m\u001b[1;33m\u001b[0m\u001b[0m\n\u001b[0;32m    693\u001b[0m \u001b[1;33m\u001b[0m\u001b[0m\n",
      "\u001b[1;32m~\\Anaconda3\\lib\\site-packages\\gdelt\\vectorizingFuncs.py\u001b[0m in \u001b[0;36m_geofilter\u001b[1;34m(frame)\u001b[0m\n\u001b[0;32m    184\u001b[0m                               \"geopandas.org/install.html for instructions.\")\n\u001b[0;32m    185\u001b[0m         \u001b[1;32melse\u001b[0m\u001b[1;33m:\u001b[0m\u001b[1;33m\u001b[0m\u001b[0m\n\u001b[1;32m--> 186\u001b[1;33m             raise ValueError(\"geopandas is installed but the geospatial \"\n\u001b[0m\u001b[0;32m    187\u001b[0m                              \u001b[1;34m\"functions failed for some other reason. Review\"\u001b[0m\u001b[1;33m\u001b[0m\u001b[0m\n\u001b[0;32m    188\u001b[0m                              \u001b[1;34m\" the stack trace to see where the failure \"\u001b[0m\u001b[1;33m\u001b[0m\u001b[0m\n",
      "\u001b[1;31mValueError\u001b[0m: geopandas is installed but the geospatial functions failed for some other reason. Review the stack trace to see where the failure occurred."
     ]
    }
   ],
   "source": [
    "# Basic use and new schema method\n",
    "import gdelt\n",
    "\n",
    "gd= gdelt.gdelt()\n",
    "\n",
    "events = gd.Search(['2017 May 23'],table='events',output='gpd',normcols=True,coverage=False)\n",
    "\n",
    "# new schema method\n",
    "print(gd.schema('events'))"
   ]
  },
  {
   "cell_type": "code",
   "execution_count": 12,
   "metadata": {},
   "outputs": [
    {
     "data": {
      "text/plain": [
       "<pymongo.results.InsertManyResult at 0x2529f9a7288>"
      ]
     },
     "execution_count": 12,
     "metadata": {},
     "output_type": "execute_result"
    }
   ],
   "source": [
    "from pymongo import MongoClient\n",
    "import pandas as pd\n",
    "\n",
    "client = MongoClient()  # Remember your uri string\n",
    "col = client['test']['test']\n",
    "\n",
    "data = csvDataNew.to_dict(orient='records')  # Here's our added param..\n",
    "\n",
    "col.insert_many(data)"
   ]
  },
  {
   "cell_type": "code",
   "execution_count": null,
   "metadata": {},
   "outputs": [],
   "source": []
  }
 ],
 "metadata": {
  "kernelspec": {
   "display_name": "Python 3",
   "language": "python",
   "name": "python3"
  },
  "language_info": {
   "codemirror_mode": {
    "name": "ipython",
    "version": 3
   },
   "file_extension": ".py",
   "mimetype": "text/x-python",
   "name": "python",
   "nbconvert_exporter": "python",
   "pygments_lexer": "ipython3",
   "version": "3.7.0"
  }
 },
 "nbformat": 4,
 "nbformat_minor": 2
}
