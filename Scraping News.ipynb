{
 "cells": [
  {
   "cell_type": "markdown",
   "metadata": {},
   "source": [
    "## News Portal Content Scrapping"
   ]
  },
  {
   "cell_type": "code",
   "execution_count": 4,
   "metadata": {},
   "outputs": [],
   "source": [
    "import urllib.request\n",
    "\n",
    "r = urllib.request.urlopen('https://nawalaksp.id/').read()"
   ]
  },
  {
   "cell_type": "code",
   "execution_count": 6,
   "metadata": {},
   "outputs": [],
   "source": [
    "from bs4 import BeautifulSoup \n",
    "\n",
    "soup = BeautifulSoup(r,\"lxml\")"
   ]
  },
  {
   "cell_type": "code",
   "execution_count": 12,
   "metadata": {},
   "outputs": [
    {
     "name": "stdout",
     "output_type": "stream",
     "text": [
      "58\n"
     ]
    }
   ],
   "source": [
    "links = soup.find_all('a')\n",
    "print(len(links))\n",
    "\n",
    "berita_link = [link for link in links if '/read/' in str(link) and 'javascript:void(0)' not in str(link) \n",
    "               and '#' not in str(link)]"
   ]
  },
  {
   "cell_type": "markdown",
   "metadata": {},
   "source": [
    "## Cleanup Duplicate Link"
   ]
  },
  {
   "cell_type": "code",
   "execution_count": 47,
   "metadata": {},
   "outputs": [
    {
     "name": "stdout",
     "output_type": "stream",
     "text": [
      "['https://nawalaksp.id/read/cara-pemerintah-stop-jual-beli-jabatan', 'https://nawalaksp.id/read/capaian-nyata-penguatan-indonesia-sentris', 'https://nawalaksp.id/read/stabilitas-keamanan-tetap-terjaga', 'https://nawalaksp.id/read/kepuasan-publik-terhadap-hukum-terus-ditingkatkan', 'https://nawalaksp.id/read/stabilitas-politik-dalam-negeri-tetap-terjaga', 'https://nawalaksp.id/read/indeks-demokrasi-indonesia-menunjukkan-peningkatan', 'https://nawalaksp.id/read/lima-aspek-pembangunan-manusia-pemerintahan-jokowi-jk', 'https://nawalaksp.id/read/terobosan-pemerintah-untuk-dorong-peningkatan-daya-saing', 'https://nawalaksp.id/read/begini-cara-generasi-milenial-apresiasi-kerja-empat-tahun-jkw-jk']\n"
     ]
    }
   ],
   "source": [
    "import pandas as pd\n",
    "\n",
    "linkList = []\n",
    "for row in berita_link:\n",
    "    if row[\"href\"] not in linkList:\n",
    "        linkList.append(row[\"href\"])\n",
    "        \n",
    "print(linkList)"
   ]
  },
  {
   "cell_type": "code",
   "execution_count": 69,
   "metadata": {},
   "outputs": [],
   "source": [
    "def getBerita(link):\n",
    "    html = urllib.request.urlopen(link).read()\n",
    "    soup = BeautifulSoup(html, \"lxml\")\n",
    "\n",
    "    judul = soup.find(\"h2\").find(\"a\").text.strip().encode(\"utf8\")\n",
    "    \n",
    "    isi_berita = soup.find(\"div\",\"zm-post-content\").text.strip().encode(\"utf8\")\n",
    "    tanggal = soup.find(\"div\",\"zm-post-meta\").text.find('a', 'zm-date').text.strip().encode(\"utf8\")\n",
    "    \n",
    "    print(isi_berita)\n",
    "    \n",
    "    exclude = set(string.punctuation)\n",
    "    judul = ''.join(ch for ch in judul if ch not in exclude)\n",
    "    \n",
    "    return [judul,isi_berita,tanggal]"
   ]
  },
  {
   "cell_type": "code",
   "execution_count": 70,
   "metadata": {},
   "outputs": [],
   "source": [
    "berita = []\n",
    "for link in linkList:\n",
    "    try:\n",
    "        berita.append(getBerita(link))\n",
    "    except:\n",
    "        pass"
   ]
  },
  {
   "cell_type": "code",
   "execution_count": 53,
   "metadata": {},
   "outputs": [
    {
     "name": "stdout",
     "output_type": "stream",
     "text": [
      "[]\n"
     ]
    }
   ],
   "source": [
    "print(berita)\n",
    "import csv\n",
    "\n",
    "with open('data_berita.csv', 'wb') as f:\n",
    "    writer = csv.writer(f)\n",
    "    writer.writerows(berita)"
   ]
  },
  {
   "cell_type": "code",
   "execution_count": null,
   "metadata": {},
   "outputs": [],
   "source": []
  }
 ],
 "metadata": {
  "kernelspec": {
   "display_name": "Python 3",
   "language": "python",
   "name": "python3"
  },
  "language_info": {
   "codemirror_mode": {
    "name": "ipython",
    "version": 3
   },
   "file_extension": ".py",
   "mimetype": "text/x-python",
   "name": "python",
   "nbconvert_exporter": "python",
   "pygments_lexer": "ipython3",
   "version": "3.7.0"
  }
 },
 "nbformat": 4,
 "nbformat_minor": 2
}
