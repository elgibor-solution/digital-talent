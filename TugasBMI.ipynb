{
 "cells": [
  {
   "cell_type": "markdown",
   "metadata": {},
   "source": [
    "## Tugas BMI\n",
    "\n",
    "### Nama: Tommy Hendrawan\n",
    "\n",
    "Input:\n",
    "1. Berat dalam Kg\n",
    "2. Tinggi dalam Cm\n",
    "\n",
    "Output:\n",
    "Kategori BMI"
   ]
  },
  {
   "cell_type": "markdown",
   "metadata": {},
   "source": [
    "## Class BMICalculator \n",
    "\n",
    "### 1. Untuk hitung nilai BMI berdasar rumus\n",
    "\n",
    "BMI = weight (kg) ÷ height^2 (m^2)\n",
    "\n",
    "### 2. Untuk analisa BMI dan mengelompokkan ke kategori tertentu\n",
    "\n",
    "Kurang dari 15\tVery severely underweight\t\n",
    "Diantara 15 dan 16\tSeverely underweight\t\n",
    "Diantara 16 dan 18.5\tUnderweight\t\n",
    "Diantara 18.5 dan 25\tNormal (healthy weight)\t\n",
    "Diantara 25 dan 30\tOverweight\t\n",
    "Diantara 30 dan 35\tModerately obese\t\n",
    "Diantara 35 dan 40\tSeverely obese\t\n",
    "Over 40\tVery severely obese\n"
   ]
  },
  {
   "cell_type": "code",
   "execution_count": 22,
   "metadata": {},
   "outputs": [],
   "source": [
    "class BMICalculator:\n",
    "    \"\"\"Calculate and analyze BMI base on weight and height\n",
    "\n",
    "    Parameters:\n",
    "        weight (float): Body Weight on Kg\n",
    "        height (float): Body height on Cm\n",
    "\n",
    "    Methods\n",
    "    -------\n",
    "    calculateBMI()\n",
    "        Calculate BMI Value base on weight and height\n",
    "        \n",
    "    analyzeBMI()\n",
    "        Analyze BMI Value and categorize the result\n",
    "    \"\"\"\n",
    "    \n",
    "    def __init__(self, weight, height):\n",
    "        \"\"\"\n",
    "        Parameters\n",
    "        ----------\n",
    "        weight : float\n",
    "            Body Weight on Kg\n",
    "        height : float\n",
    "            Body height on Cm\n",
    "        \"\"\"\n",
    "        self.weight = weight\n",
    "        self.height = height / 100\n",
    "        self.bmi = 0\n",
    "        \n",
    "    def calculateBMI(self):\n",
    "        \"\"\"Calculate BMI Value base on weight and height.\n",
    "\n",
    "        Returns\n",
    "        ------\n",
    "        bmi\n",
    "            BMI Value that calculate base on weight (kg) ÷ height^2 (m^2) formula\n",
    "        \"\"\"\n",
    "        \n",
    "        if self.weight <= 0:\n",
    "            print(\"Please set Weight first\")\n",
    "        elif self.height <= 0:\n",
    "            print(\"Please set Height first\")\n",
    "            \n",
    "        self.bmi = self.weight / (self.height ** 2)\n",
    "        return self.bmi\n",
    "\n",
    "    def analyzeBMI(self):\n",
    "        \"\"\"Analyze BMI Value base on weight and height.\n",
    "\n",
    "        Returns\n",
    "        ------\n",
    "        result\n",
    "            BMI Category base on BMI Value\n",
    "        \"\"\"\n",
    "        \n",
    "        bmi = self.calculateBMI()\n",
    "        result = 'Very severely obese'\n",
    "\n",
    "        if bmi >= 18.5 and bmi < 25:\n",
    "            result = 'Normal (healthy weight)'\n",
    "        elif bmi >= 15 and bmi < 16:\n",
    "            result = 'Severely underweight'\n",
    "        elif bmi >= 25 and bmi < 30:\n",
    "            result = 'Overweight'\n",
    "        elif bmi >= 16 and bmi < 18.5:\n",
    "            result = 'Underweight'\n",
    "        elif bmi >= 30 and bmi < 35:\n",
    "            result = 'Moderately obese'\n",
    "        elif bmi >= 35 and bmi < 40:\n",
    "            result = 'Severely obese'\n",
    "        elif bmi < 15:\n",
    "            result = 'Very severely underweight'\n",
    "            \n",
    "        return result"
   ]
  },
  {
   "cell_type": "markdown",
   "metadata": {},
   "source": [
    "### Menggunakan BMI Calculator untuk melakukan analisa BMI"
   ]
  },
  {
   "cell_type": "code",
   "execution_count": 23,
   "metadata": {
    "scrolled": true
   },
   "outputs": [
    {
     "name": "stdout",
     "output_type": "stream",
     "text": [
      "Kategori BMI :  Normal (healthy weight)\n"
     ]
    }
   ],
   "source": [
    "# Berat dalam KG\n",
    "weight = 63\n",
    "\n",
    "# Tinggi dalam Centimeter\n",
    "height = 165\n",
    "\n",
    "# Initialize BMI Calculator Class\n",
    "bmiCalc = BMICalculator(weight, height)\n",
    "\n",
    "# print(\"Weight: \", weight, \"kg\")\n",
    "# print(\"Height: \", heightMeter, \"cm\" )\n",
    "# print(\"BMI : \", bmiCalc.calculateBMI())\n",
    "print(\"Kategori BMI : \", bmiCalc.analyzeBMI())"
   ]
  },
  {
   "cell_type": "code",
   "execution_count": null,
   "metadata": {},
   "outputs": [],
   "source": []
  }
 ],
 "metadata": {
  "kernelspec": {
   "display_name": "Python 3",
   "language": "python",
   "name": "python3"
  },
  "language_info": {
   "codemirror_mode": {
    "name": "ipython",
    "version": 3
   },
   "file_extension": ".py",
   "mimetype": "text/x-python",
   "name": "python",
   "nbconvert_exporter": "python",
   "pygments_lexer": "ipython3",
   "version": "3.7.0"
  }
 },
 "nbformat": 4,
 "nbformat_minor": 2
}
